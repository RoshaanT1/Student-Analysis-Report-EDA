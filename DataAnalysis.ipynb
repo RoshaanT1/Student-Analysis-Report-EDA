{
 "cells": [
  {
   "cell_type": "code",
   "execution_count": 2,
   "id": "62aced78-c516-4be6-aabd-f485db19f1de",
   "metadata": {},
   "outputs": [
    {
     "name": "stdout",
     "output_type": "stream",
     "text": [
      "Collecting kagglehub\n",
      "  Downloading kagglehub-0.3.12-py3-none-any.whl.metadata (38 kB)\n",
      "Requirement already satisfied: packaging in c:\\users\\hp\\appdata\\local\\programs\\python\\python313\\lib\\site-packages (from kagglehub) (24.2)\n",
      "Requirement already satisfied: pyyaml in c:\\users\\hp\\appdata\\local\\programs\\python\\python313\\lib\\site-packages (from kagglehub) (6.0.2)\n",
      "Requirement already satisfied: requests in c:\\users\\hp\\appdata\\local\\programs\\python\\python313\\lib\\site-packages (from kagglehub) (2.32.3)\n",
      "Requirement already satisfied: tqdm in c:\\users\\hp\\appdata\\local\\programs\\python\\python313\\lib\\site-packages (from kagglehub) (4.67.1)\n",
      "Requirement already satisfied: charset-normalizer<4,>=2 in c:\\users\\hp\\appdata\\local\\programs\\python\\python313\\lib\\site-packages (from requests->kagglehub) (3.4.1)\n",
      "Requirement already satisfied: idna<4,>=2.5 in c:\\users\\hp\\appdata\\local\\programs\\python\\python313\\lib\\site-packages (from requests->kagglehub) (3.10)\n",
      "Requirement already satisfied: urllib3<3,>=1.21.1 in c:\\users\\hp\\appdata\\local\\programs\\python\\python313\\lib\\site-packages (from requests->kagglehub) (2.3.0)\n",
      "Requirement already satisfied: certifi>=2017.4.17 in c:\\users\\hp\\appdata\\local\\programs\\python\\python313\\lib\\site-packages (from requests->kagglehub) (2025.1.31)\n",
      "Requirement already satisfied: colorama in c:\\users\\hp\\appdata\\local\\programs\\python\\python313\\lib\\site-packages (from tqdm->kagglehub) (0.4.6)\n",
      "Downloading kagglehub-0.3.12-py3-none-any.whl (67 kB)\n",
      "Installing collected packages: kagglehub\n",
      "Successfully installed kagglehub-0.3.12\n"
     ]
    }
   ],
   "source": [
    "!pip install kagglehub"
   ]
  },
  {
   "cell_type": "code",
   "execution_count": 6,
   "id": "2ba6ecb5-8988-4730-a7e2-e52b31302595",
   "metadata": {},
   "outputs": [
    {
     "name": "stderr",
     "output_type": "stream",
     "text": [
      "C:\\Users\\HP\\AppData\\Local\\Temp\\ipykernel_10496\\596629967.py:12: DeprecationWarning: load_dataset is deprecated and will be removed in a future version.\n",
      "  df = kagglehub.load_dataset(\n"
     ]
    }
   ],
   "source": [
    "# Install required package if not already installed\n",
    "# pip install kagglehub[pandas-datasets]\n",
    "\n",
    "import kagglehub\n",
    "from kagglehub import KaggleDatasetAdapter\n",
    "import pandas as pd\n",
    "\n",
    "# Specify the file name exactly as it appears in the dataset\n",
    "file_path = \"StudentsPerformance.csv\"  # Note the capital 'S' and 'P'\n",
    "\n",
    "# Load the dataset using KaggleDatasetAdapter\n",
    "df = kagglehub.load_dataset(\n",
    "    KaggleDatasetAdapter.PANDAS,\n",
    "    \"spscientist/students-performance-in-exams\",\n",
    "    file_path\n",
    ")"
   ]
  },
  {
   "cell_type": "code",
   "execution_count": 13,
   "id": "70a54803-348c-4931-ac18-6e3d50ced4cf",
   "metadata": {},
   "outputs": [
    {
     "name": "stdout",
     "output_type": "stream",
     "text": [
      "<class 'pandas.core.frame.DataFrame'>\n",
      "RangeIndex: 1000 entries, 0 to 999\n",
      "Data columns (total 8 columns):\n",
      " #   Column                       Non-Null Count  Dtype \n",
      "---  ------                       --------------  ----- \n",
      " 0   gender                       1000 non-null   object\n",
      " 1   race/ethnicity               1000 non-null   object\n",
      " 2   parental level of education  1000 non-null   object\n",
      " 3   lunch                        1000 non-null   object\n",
      " 4   test preparation course      1000 non-null   object\n",
      " 5   math score                   1000 non-null   int64 \n",
      " 6   reading score                1000 non-null   int64 \n",
      " 7   writing score                1000 non-null   int64 \n",
      "dtypes: int64(3), object(5)\n",
      "memory usage: 62.6+ KB\n",
      "None\n"
     ]
    }
   ],
   "source": [
    "print(df.info())"
   ]
  },
  {
   "cell_type": "code",
   "execution_count": 17,
   "id": "7c23417b-4a2d-49d7-8d60-f167f1d12e2f",
   "metadata": {},
   "outputs": [
    {
     "name": "stdout",
     "output_type": "stream",
     "text": [
      "parental level of education\n",
      "associate's degree    67.882883\n",
      "bachelor's degree     69.389831\n",
      "high school           62.137755\n",
      "master's degree       69.745763\n",
      "some college          67.128319\n",
      "some high school      63.497207\n",
      "Name: math score, dtype: float64\n"
     ]
    }
   ],
   "source": [
    "# Parental education level is linked with the highest average math score\n",
    "avg_math_score = df.groupby(\"parental level of education\")[\"math score\"].mean()\n",
    "print(avg_math_score)"
   ]
  },
  {
   "cell_type": "code",
   "execution_count": 21,
   "id": "faf1f4dd-855f-4c27-a13f-c13893e17b18",
   "metadata": {},
   "outputs": [
    {
     "name": "stdout",
     "output_type": "stream",
     "text": [
      "Math Avg by Subject:\n",
      "gender\n",
      "female    63.633205\n",
      "male      68.728216\n",
      "Name: math score, dtype: float64\n",
      "\n",
      "Reading Avg by Subject:\n",
      "gender\n",
      "female    72.608108\n",
      "male      65.473029\n",
      "Name: reading score, dtype: float64\n",
      "\n",
      "Writing Avg by Subject:\n",
      "gender\n",
      "female    72.467181\n",
      "male      63.311203\n",
      "Name: writing score, dtype: float64\n",
      "\n"
     ]
    }
   ],
   "source": [
    "# Score difference between males and females across all subjects\n",
    "gender_math = df.groupby(\"gender\")[\"math score\"].mean()\n",
    "gender_read = df.groupby(\"gender\")[\"reading score\"].mean()\n",
    "gender_write = df.groupby(\"gender\")[\"writing score\"].mean()\n",
    "\n",
    "print(f\"Math Avg by Subject:\\n{gender_math}\\n\")\n",
    "print(f\"Reading Avg by Subject:\\n{gender_read}\\n\")\n",
    "print(f\"Writing Avg by Subject:\\n{gender_write}\\n\")"
   ]
  },
  {
   "cell_type": "code",
   "execution_count": 23,
   "id": "320191d6-20cd-499d-89f6-b4bdb9dca592",
   "metadata": {},
   "outputs": [
    {
     "name": "stdout",
     "output_type": "stream",
     "text": [
      "Maths:\n",
      "test preparation course\n",
      "completed    69.695531\n",
      "none         64.077882\n",
      "Name: math score, dtype: float64\n",
      "\n",
      "Read:\n",
      "test preparation course\n",
      "completed    73.893855\n",
      "none         66.534268\n",
      "Name: reading score, dtype: float64\n",
      "\n",
      "Writing:\n",
      "test preparation course\n",
      "completed    74.418994\n",
      "none         64.504673\n",
      "Name: writing score, dtype: float64\n",
      "\n"
     ]
    }
   ],
   "source": [
    "# Does completing the test preparation course improve performance in each subject?\n",
    "preparation_math = df.groupby(\"test preparation course\")[\"math score\"].mean()\n",
    "preparation_read = df.groupby(\"test preparation course\")[\"reading score\"].mean()\n",
    "preparation_write = df.groupby(\"test preparation course\")[\"writing score\"].mean()\n",
    "\n",
    "print(f\"Maths:\\n{preparation_math}\\n\")\n",
    "print(f\"Read:\\n{preparation_read}\\n\")\n",
    "print(f\"Writing:\\n{preparation_write}\\n\")"
   ]
  },
  {
   "cell_type": "code",
   "execution_count": 6,
   "id": "7fcd9764-49b7-406c-b3ec-9ab9748731a4",
   "metadata": {},
   "outputs": [
    {
     "name": "stdout",
     "output_type": "stream",
     "text": [
      "Maths: \n",
      "                                             count       mean\n",
      "gender lunch        test preparation course                  \n",
      "female free/reduced completed                    2  92.500000\n",
      "       standard     completed                   18  91.833333\n",
      "                    none                        15  93.000000\n",
      "male   free/reduced completed                    4  91.250000\n",
      "                    none                         5  89.600000\n",
      "       standard     completed                   27  92.592593\n",
      "                    none                        24  90.500000\n",
      "\n",
      "Reading: \n",
      "                                             count       mean\n",
      "gender lunch        test preparation course                  \n",
      "female free/reduced completed                   12  92.666667\n",
      "                    none                         4  90.250000\n",
      "       standard     completed                   28  94.321429\n",
      "                    none                        36  93.166667\n",
      "male   free/reduced completed                    3  93.000000\n",
      "                    none                         2  90.000000\n",
      "       standard     completed                   11  93.545455\n",
      "                    none                         4  91.500000\n",
      "\n",
      "Writing: \n",
      "                                             count       mean\n",
      "gender lunch        test preparation course                  \n",
      "female free/reduced completed                   11  93.454545\n",
      "                    none                         3  90.666667\n",
      "       standard     completed                   35  93.771429\n",
      "                    none                        31  93.709677\n",
      "male   free/reduced completed                    3  90.333333\n",
      "       standard     completed                   12  92.166667\n",
      "                    none                         3  90.666667\n"
     ]
    }
   ],
   "source": [
    "# Which combination of gender, lunch type, and test preparation status produces the top 10% of scores?\n",
    "\n",
    "below90_math = df[\"math score\"].quantile(0.90)\n",
    "top10_math = df[df[\"math score\"]>below90_math]\n",
    "\n",
    "below90_read = df[\"reading score\"].quantile(0.90)\n",
    "top10_read = df[df[\"reading score\"]>below90_read]\n",
    "\n",
    "below90_write = df[\"writing score\"].quantile(0.90)\n",
    "top10_write = df[df[\"writing score\"]>below90_write]\n",
    "\n",
    "combination_math = top10_math.groupby([\"gender\",\"lunch\", \"test preparation course\"])[\"math score\"].agg([\"count\",\"mean\"])\n",
    "print(f\"Maths: \\n{combination_math}\\n\")\n",
    "\n",
    "combination_read = top10_read.groupby([\"gender\",\"lunch\", \"test preparation course\"])[\"reading score\"].agg([\"count\",\"mean\"])\n",
    "print(f\"Reading: \\n{combination_read}\\n\")\n",
    "\n",
    "combination_write = top10_write.groupby([\"gender\",\"lunch\", \"test preparation course\"])[\"writing score\"].agg([\"count\",\"mean\"])\n",
    "print(f\"Writing: \\n{combination_write}\")"
   ]
  },
  {
   "cell_type": "code",
   "execution_count": 42,
   "id": "fcaf0582-a853-4dae-afa0-df1ba0ea2ff2",
   "metadata": {},
   "outputs": [
    {
     "name": "stdout",
     "output_type": "stream",
     "text": [
      "race/ethnicity  lunch       \n",
      "group A         standard         53\n",
      "                free/reduced     36\n",
      "group B         standard        121\n",
      "                free/reduced     69\n",
      "group C         standard        205\n",
      "                free/reduced    114\n",
      "group D         standard        167\n",
      "                free/reduced     95\n",
      "group E         standard         99\n",
      "                free/reduced     41\n",
      "Name: count, dtype: int64\n"
     ]
    }
   ],
   "source": [
    "# Does lunch type have a uniform impact across all race/ethnicity groups, or does its effect vary?\n",
    "lunch_race = df.groupby(\"race/ethnicity\")[\"lunch\"].value_counts()\n",
    "print(lunch_race)"
   ]
  },
  {
   "cell_type": "code",
   "execution_count": 5,
   "id": "1e980e99-32da-4d8e-9a19-be166aabe5b8",
   "metadata": {},
   "outputs": [
    {
     "name": "stdout",
     "output_type": "stream",
     "text": [
      "Reading score correlation score with writing score: 0.9545980771462478\n",
      "Math score correlation score with writing score: 0.8026420459498085\n"
     ]
    }
   ],
   "source": [
    "# Correlation b/w reading/math and writing scores\n",
    "read_corr_write = df[\"reading score\"].corr(df[\"writing score\"])\n",
    "math_corr_write = df[\"math score\"].corr(df[\"writing score\"])\n",
    "\n",
    "print(f\"Reading score correlation score with writing score: {read_corr_write}\")\n",
    "print(f\"Math score correlation score with writing score: {math_corr_write}\")"
   ]
  },
  {
   "cell_type": "code",
   "execution_count": 7,
   "id": "1df52586-4fd4-46c8-93c2-26905259d3db",
   "metadata": {},
   "outputs": [
    {
     "name": "stdout",
     "output_type": "stream",
     "text": [
      "Maths: \n",
      "                                                   count        mean\n",
      "gender race/ethnicity parental level of education                   \n",
      "female group A        some high school                 1   92.000000\n",
      "       group B        associate's degree               2   92.000000\n",
      "                      bachelor's degree                1   97.000000\n",
      "                      high school                      1   87.000000\n",
      "                      master's degree                  1   90.000000\n",
      "                      some college                     1   88.000000\n",
      "       group C        associate's degree               3   92.666667\n",
      "                      bachelor's degree                2   94.000000\n",
      "                      some college                     3   87.666667\n",
      "       group D        associate's degree               1   88.000000\n",
      "                      bachelor's degree                2   91.000000\n",
      "                      high school                      1   88.000000\n",
      "                      master's degree                  2   89.500000\n",
      "                      some college                     1   98.000000\n",
      "                      some high school                 1   97.000000\n",
      "       group E        associate's degree               4   93.750000\n",
      "                      bachelor's degree                3   97.000000\n",
      "                      high school                      1   99.000000\n",
      "                      master's degree                  2   91.000000\n",
      "                      some college                     2   93.500000\n",
      "male   group A        associate's degree               1   97.000000\n",
      "                      bachelor's degree                2   89.000000\n",
      "                      some college                     1  100.000000\n",
      "       group B        associate's degree               3   89.333333\n",
      "                      bachelor's degree                2   87.500000\n",
      "                      some college                     3   88.666667\n",
      "                      some high school                 2   91.000000\n",
      "       group C        associate's degree               5   92.200000\n",
      "                      bachelor's degree                3   93.666667\n",
      "                      high school                      2   89.000000\n",
      "                      master's degree                  1   91.000000\n",
      "                      some college                     3   94.000000\n",
      "       group D        associate's degree               3   89.000000\n",
      "                      bachelor's degree                1   88.000000\n",
      "                      high school                      2   88.500000\n",
      "                      master's degree                  2   92.000000\n",
      "                      some college                     3   92.000000\n",
      "                      some high school                 2   88.500000\n",
      "       group E        associate's degree               7   92.571429\n",
      "                      bachelor's degree                1  100.000000\n",
      "                      high school                      2   90.500000\n",
      "                      master's degree                  1   90.000000\n",
      "                      some college                     4   94.000000\n",
      "                      some high school                 4   90.500000\n",
      "\n",
      "Reading: \n",
      "                                                   count        mean\n",
      "gender race/ethnicity parental level of education                   \n",
      "female group A        associate's degree               1   93.000000\n",
      "                      high school                      1   88.000000\n",
      "                      some high school                 2   95.000000\n",
      "       group B        associate's degree               2   92.000000\n",
      "                      bachelor's degree                1   97.000000\n",
      "                      high school                      2   93.000000\n",
      "                      master's degree                  3   94.000000\n",
      "                      some college                     1   95.000000\n",
      "                      some high school                 2   89.500000\n",
      "       group C        associate's degree               4   93.250000\n",
      "                      bachelor's degree                8   93.375000\n",
      "                      high school                      1   88.000000\n",
      "                      master's degree                  1   91.000000\n",
      "                      some college                     7   90.857143\n",
      "                      some high school                 3   91.000000\n",
      "       group D        associate's degree               6   90.833333\n",
      "                      bachelor's degree                4   94.750000\n",
      "                      high school                      2   95.500000\n",
      "                      master's degree                  4   96.500000\n",
      "                      some college                     5   93.000000\n",
      "                      some high school                 4   94.750000\n",
      "       group E        associate's degree               7   94.000000\n",
      "                      bachelor's degree                3  100.000000\n",
      "                      high school                      1   93.000000\n",
      "                      master's degree                  3   96.666667\n",
      "                      some college                     2   90.000000\n",
      "male   group A        associate's degree               1   92.000000\n",
      "                      bachelor's degree                1   96.000000\n",
      "                      some college                     1   96.000000\n",
      "       group B        associate's degree               1   89.000000\n",
      "                      bachelor's degree                1   90.000000\n",
      "                      some college                     1   96.000000\n",
      "       group C        associate's degree               2   96.500000\n",
      "                      bachelor's degree                2   90.000000\n",
      "                      high school                      1   89.000000\n",
      "       group D        master's degree                  1   89.000000\n",
      "                      some college                     1   97.000000\n",
      "                      some high school                 1   88.000000\n",
      "       group E        associate's degree               2   95.000000\n",
      "                      bachelor's degree                1  100.000000\n",
      "                      high school                      1   91.000000\n",
      "                      some college                     1   90.000000\n",
      "                      some high school                 1   88.000000\n",
      "\n",
      "Writing: \n",
      "                                                   count        mean\n",
      "gender race/ethnicity parental level of education                   \n",
      "female group A        associate's degree               1   93.000000\n",
      "                      some college                     1   91.000000\n",
      "                      some high school                 2   94.500000\n",
      "       group B        associate's degree               2   91.500000\n",
      "                      bachelor's degree                1   96.000000\n",
      "                      high school                      2   89.000000\n",
      "                      master's degree                  2   93.500000\n",
      "                      some college                     2   92.000000\n",
      "                      some high school                 1   88.000000\n",
      "       group C        associate's degree               6   93.500000\n",
      "                      bachelor's degree                7   93.857143\n",
      "                      some college                    10   91.100000\n",
      "                      some high school                 2   90.500000\n",
      "       group D        associate's degree               6   91.500000\n",
      "                      bachelor's degree                4   95.500000\n",
      "                      high school                      1  100.000000\n",
      "                      master's degree                  5   97.400000\n",
      "                      some college                     5   94.600000\n",
      "                      some high school                 3   94.666667\n",
      "       group E        associate's degree               7   93.714286\n",
      "                      bachelor's degree                3  100.000000\n",
      "                      high school                      1   90.000000\n",
      "                      master's degree                  3   95.333333\n",
      "                      some college                     3   93.666667\n",
      "male   group A        bachelor's degree                1   92.000000\n",
      "       group B        associate's degree               1   92.000000\n",
      "                      bachelor's degree                1   88.000000\n",
      "                      some college                     1   91.000000\n",
      "       group C        associate's degree               3   92.000000\n",
      "                      bachelor's degree                2   91.500000\n",
      "                      some college                     2   90.000000\n",
      "       group D        master's degree                  2   89.500000\n",
      "                      some college                     2   93.500000\n",
      "       group E        associate's degree               2   90.500000\n",
      "                      bachelor's degree                1  100.000000\n"
     ]
    }
   ],
   "source": [
    "# Demographics of top 10% students\n",
    "\n",
    "demograph_math = top10_math.groupby([\"gender\",\"race/ethnicity\", \"parental level of education\"])[\"math score\"].agg([\"count\",\"mean\"])\n",
    "print(f\"Maths: \\n{demograph_math}\\n\")\n",
    "\n",
    "demograph_read = top10_read.groupby([\"gender\",\"race/ethnicity\", \"parental level of education\"])[\"reading score\"].agg([\"count\",\"mean\"])\n",
    "print(f\"Reading: \\n{demograph_read}\\n\")\n",
    "\n",
    "demograph_write = top10_write.groupby([\"gender\",\"race/ethnicity\", \"parental level of education\"])[\"writing score\"].agg([\"count\",\"mean\"])\n",
    "print(f\"Writing: \\n{demograph_write}\")"
   ]
  },
  {
   "cell_type": "code",
   "execution_count": 28,
   "id": "fd058e05-1e90-4452-adc5-0e585bd2ce78",
   "metadata": {},
   "outputs": [
    {
     "name": "stdout",
     "output_type": "stream",
     "text": [
      "Performance Category\n",
      "Medium    513\n",
      "Low       293\n",
      "High      194\n",
      "Name: count, dtype: int64\n"
     ]
    }
   ],
   "source": [
    "df[\"total_percentage\"] = round((df[\"math score\"] + df[\"reading score\"] + df[\"writing score\"])/3,2)\n",
    "\n",
    "labels = [\"Low\", \"Medium\", \"High\"]\n",
    "bins = [0, 60, 80, 100]\n",
    "\n",
    "df[\"Performance Category\"] = pd.cut(df[\"total_percentage\"],bins=bins,labels=labels)\n",
    "print(df[\"Performance Category\"].value_counts())"
   ]
  },
  {
   "cell_type": "code",
   "execution_count": 29,
   "id": "26682672-0fe9-4393-a51e-e2ba048321a0",
   "metadata": {},
   "outputs": [],
   "source": [
    "df.to_csv(\"students_performance.csv\", index=False)"
   ]
  }
 ],
 "metadata": {
  "kernelspec": {
   "display_name": "Python 3 (ipykernel)",
   "language": "python",
   "name": "python3"
  },
  "language_info": {
   "codemirror_mode": {
    "name": "ipython",
    "version": 3
   },
   "file_extension": ".py",
   "mimetype": "text/x-python",
   "name": "python",
   "nbconvert_exporter": "python",
   "pygments_lexer": "ipython3",
   "version": "3.13.1"
  }
 },
 "nbformat": 4,
 "nbformat_minor": 5
}
